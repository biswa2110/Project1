{
 "cells": [
  {
   "cell_type": "code",
   "execution_count": 2,
   "metadata": {
    "collapsed": true
   },
   "outputs": [],
   "source": [
    "import pandas as pd\n",
    "import seaborn as sns\n",
    "import numpy as np\n",
    "import warnings\n",
    "warnings.filterwarnings('ignore')\n",
    "%matplotlib inline\n",
    "from sklearn.feature_extraction.text import TfidfVectorizer\n",
    "from textblob import TextBlob\n",
    "from sklearn.metrics import roc_auc_score\n",
    "from sklearn.ensemble import RandomForestClassifier\n",
    "from sklearn.cross_validation import cross_val_score, train_test_split, KFold\n",
    "import scipy\n",
    "from sklearn.linear_model import LogisticRegression\n",
    "from sklearn.preprocessing import LabelEncoder"
   ]
  },
  {
   "cell_type": "code",
   "execution_count": 3,
   "metadata": {
    "collapsed": true
   },
   "outputs": [],
   "source": [
    "train_data = pd.read_csv('Consumer_Complaints_train.csv', nrows=70000)\n",
    "test_data = pd.read_csv('Consumer_Complaints_test_share.csv',  nrows=20000)"
   ]
  },
  {
   "cell_type": "code",
   "execution_count": 4,
   "metadata": {
    "collapsed": false
   },
   "outputs": [
    {
     "data": {
      "text/plain": [
       "Index(['Date received', 'Product', 'Sub-product', 'Issue', 'Sub-issue',\n",
       "       'Consumer complaint narrative', 'Company public response', 'Company',\n",
       "       'State', 'ZIP code', 'Tags', 'Consumer consent provided?',\n",
       "       'Submitted via', 'Date sent to company', 'Company response to consumer',\n",
       "       'Timely response?', 'Consumer disputed?', 'Complaint ID'],\n",
       "      dtype='object')"
      ]
     },
     "execution_count": 4,
     "metadata": {},
     "output_type": "execute_result"
    }
   ],
   "source": [
    "train_data.columns"
   ]
  },
  {
   "cell_type": "code",
   "execution_count": 17,
   "metadata": {
    "collapsed": false
   },
   "outputs": [
    {
     "name": "stdout",
     "output_type": "stream",
     "text": [
      "Company response to consumer_Closed with explanation  : 2\n",
      "Company response to consumer_Closed with monetary relief  : 2\n",
      "Company response to consumer_Closed with non-monetary relief  : 2\n",
      "Company response to consumer_Closed with relief  : 2\n",
      "Company response to consumer_Closed without relief  : 2\n",
      "Submitted via_Fax  : 2\n",
      "Submitted via_Phone  : 2\n",
      "Submitted via_Postal mail  : 2\n",
      "Submitted via_Referral  : 2\n",
      "Submitted via_Web  : 2\n",
      "Product  : 12\n",
      "Issue  : 93\n",
      "Consumer complaint narrative  : 11003\n",
      "Company public response  : 2\n",
      "Consumer disputed?  : 2\n",
      "day_diff  : 247\n",
      "Timely_response  : 2\n",
      "date_1  : 2\n",
      "date_2  : 2\n",
      "date_3  : 2\n",
      "date_4  : 2\n",
      "Sub_product_isNan  : 2\n",
      "Sub_issue_isNan  : 2\n",
      "Consumer consent provided?_isNan  : 2\n",
      "State_CA  : 2\n",
      "State_FL  : 2\n",
      "State_TX  : 2\n",
      "State_NY  : 2\n",
      "State_GA  : 2\n",
      "State_NJ  : 2\n",
      "State_PA  : 2\n",
      "State_IL  : 2\n",
      "State_MD  : 2\n",
      "State_VA  : 2\n",
      "State_OH  : 2\n",
      "State_NC  : 2\n",
      "State_MI  : 2\n",
      "State_AZ  : 2\n",
      "State_WA  : 2\n"
     ]
    }
   ],
   "source": [
    "for col in train_data.columns:\n",
    "    print(col,' :',train_data[col].nunique())"
   ]
  },
  {
   "cell_type": "code",
   "execution_count": null,
   "metadata": {
    "collapsed": false
   },
   "outputs": [],
   "source": [
    "for col in test_data.columns:\n",
    "    print(col,' :',test_data[col].nunique())"
   ]
  },
  {
   "cell_type": "code",
   "execution_count": 5,
   "metadata": {
    "collapsed": true
   },
   "outputs": [],
   "source": [
    "for col in ['Date received','Date sent to company']:\n",
    "    train_data[col]=pd.to_datetime(train_data[col],infer_datetime_format=True)\n",
    "    test_data[col]=pd.to_datetime(test_data[col],infer_datetime_format=True)"
   ]
  },
  {
   "cell_type": "code",
   "execution_count": 6,
   "metadata": {
    "collapsed": true
   },
   "outputs": [],
   "source": [
    "train_data['day_diff']=pd.to_numeric(train_data['Date sent to company']-train_data['Date received'])\n",
    "test_data['day_diff']=pd.to_numeric(test_data['Date sent to company']-test_data['Date received'])"
   ]
  },
  {
   "cell_type": "code",
   "execution_count": 7,
   "metadata": {
    "collapsed": true
   },
   "outputs": [],
   "source": [
    "train_data['Consumer disputed?']=np.where(train_data['Consumer disputed?']==\"Yes\",1,0)"
   ]
  },
  {
   "cell_type": "code",
   "execution_count": 8,
   "metadata": {
    "collapsed": true
   },
   "outputs": [],
   "source": [
    "train_data['Timely_response']=np.where(train_data['Timely response?']=='No',0,1)\n",
    "train_data.drop(train_data.ix[:, ['Timely response?']], axis=1, inplace=True)\n",
    "test_data['Timely_response']=np.where(test_data['Timely response?']=='No',0,1)\n",
    "test_data.drop(test_data.ix[:, ['Timely response?']], axis=1, inplace=True)"
   ]
  },
  {
   "cell_type": "code",
   "execution_count": 9,
   "metadata": {
    "collapsed": true
   },
   "outputs": [],
   "source": [
    "train_data['Date received'] = pd.to_datetime(train_data['Date received']).dt.month\n",
    "test_data['Date received'] = pd.to_datetime(test_data['Date received']).dt.month"
   ]
  },
  {
   "cell_type": "code",
   "execution_count": null,
   "metadata": {
    "collapsed": false
   },
   "outputs": [],
   "source": [
    "round(train_data.groupby(\"Date received\")['Consumer disputed?'].mean(),2)"
   ]
  },
  {
   "cell_type": "code",
   "execution_count": 10,
   "metadata": {
    "collapsed": true
   },
   "outputs": [],
   "source": [
    "for i in range(len(train_data)):\n",
    "    if train_data[\"Date received\"][i] in [1,2,3,4,11,12]:\n",
    "        train_data.loc[i,\"Date received\"]=\"date_1\"\n",
    "    if train_data[\"Date received\"][i] in [5,10]:\n",
    "        train_data.loc[i,\"Date received\"]=\"date_2\"\n",
    "    if train_data[\"Date received\"][i] in [6,9]:\n",
    "        train_data.loc[i,\"Date received\"]=\"date_3\"\n",
    "    if train_data[\"Date received\"][i] in [7]:\n",
    "        train_data.loc[i,\"Date received\"]=\"date_4\" \n",
    "\n",
    "        \n",
    "temp=pd.get_dummies(train_data[\"Date received\"]).applymap(np.int64)\n",
    "train_data=pd.concat([train_data,temp],1)\n",
    "train_data.drop([8,'Date received'],1,inplace=True)            "
   ]
  },
  {
   "cell_type": "code",
   "execution_count": null,
   "metadata": {
    "collapsed": false
   },
   "outputs": [],
   "source": [
    "#train_data.shape"
   ]
  },
  {
   "cell_type": "code",
   "execution_count": 11,
   "metadata": {
    "collapsed": true
   },
   "outputs": [],
   "source": [
    "for i in range(len(test_data)):\n",
    "    if test_data[\"Date received\"][i] in [1,2,3,4,11,12]:\n",
    "        test_data.loc[i,\"Date received\"]=\"date_1\"\n",
    "    if test_data[\"Date received\"][i] in [5,10]:\n",
    "        test_data.loc[i,\"Date received\"]=\"date_2\"\n",
    "    if test_data[\"Date received\"][i] in [6,9]:\n",
    "        test_data.loc[i,\"Date received\"]=\"date_3\"\n",
    "    if test_data[\"Date received\"][i] in [7]:\n",
    "        test_data.loc[i,\"Date received\"]=\"date_4\" \n",
    "        \n",
    "temp=pd.get_dummies(test_data[\"Date received\"]).applymap(np.int64)\n",
    "test_data=pd.concat([test_data,temp],1)\n",
    "test_data.drop([8,'Date received'],1,inplace=True)        "
   ]
  },
  {
   "cell_type": "code",
   "execution_count": 11,
   "metadata": {
    "collapsed": true
   },
   "outputs": [],
   "source": [
    "for x in ['Date sent to company','Company', 'ZIP code', 'Tags']:\n",
    "    del train_data[x]   \n",
    "    del test_data[x]"
   ]
  },
  {
   "cell_type": "code",
   "execution_count": 12,
   "metadata": {
    "collapsed": true
   },
   "outputs": [],
   "source": [
    "train_data.drop(['Complaint ID'], 1, inplace=True)"
   ]
  },
  {
   "cell_type": "code",
   "execution_count": 13,
   "metadata": {
    "collapsed": true
   },
   "outputs": [],
   "source": [
    "for col in ['Submitted via', 'Company response to consumer']:\n",
    "    temp=pd.get_dummies(train_data[col],prefix=col,drop_first=True).applymap(np.int64)\n",
    "    train_data=pd.concat([temp,train_data],1)\n",
    "    train_data.drop([col],1,inplace=True)\n",
    "    \n",
    "    temp=pd.get_dummies(test_data[col],prefix=col,drop_first=True).applymap(np.int64)\n",
    "    test_data=pd.concat([temp,test_data],1)\n",
    "    test_data.drop([col],1,inplace=True)    "
   ]
  },
  {
   "cell_type": "code",
   "execution_count": 14,
   "metadata": {
    "collapsed": true
   },
   "outputs": [],
   "source": [
    "train_data['Company public response']=np.where(pd.isnull(train_data['Company public response']),1,0)\n",
    "test_data['Company public response']=np.where(pd.isnull(test_data['Company public response']),1,0)"
   ]
  },
  {
   "cell_type": "code",
   "execution_count": 15,
   "metadata": {
    "collapsed": true
   },
   "outputs": [],
   "source": [
    "for col in ['Sub-product','Sub-issue', 'Consumer consent provided?']:\n",
    "    varname=col.replace('-','_')+'_isNan'\n",
    "    train_data[varname]=np.where(pd.isnull(train_data[col]),1,0)\n",
    "    train_data.drop([col],1,inplace=True)\n",
    "    test_data[varname]=np.where(pd.isnull(test_data[col]),1,0)\n",
    "    test_data.drop([col],1,inplace=True)"
   ]
  },
  {
   "cell_type": "code",
   "execution_count": 16,
   "metadata": {
    "collapsed": true
   },
   "outputs": [],
   "source": [
    "k=train_data['State'].value_counts()\n",
    "for val in k.axes[0][0:15]:\n",
    "    varname='State_'+val.replace(',','_').replace(' ','_')\n",
    "    train_data[varname]=np.where(train_data['State']==val,1,0)\n",
    "    test_data[varname]=np.where(test_data['State']==val,1,0)\n",
    "del train_data['State']\n",
    "del test_data['State']"
   ]
  },
  {
   "cell_type": "code",
   "execution_count": 18,
   "metadata": {
    "collapsed": false
   },
   "outputs": [],
   "source": [
    "# le=LabelEncoder()"
   ]
  },
  {
   "cell_type": "code",
   "execution_count": 19,
   "metadata": {
    "collapsed": false
   },
   "outputs": [],
   "source": [
    "# le.fit(train_data['Product'].values)\n",
    "# train_data['Product']=le.transform(train_data['Product'])\n",
    "# test_data['Product']=le.transform(test_data['Product'])"
   ]
  },
  {
   "cell_type": "code",
   "execution_count": 18,
   "metadata": {
    "collapsed": true
   },
   "outputs": [],
   "source": [
    "temp=pd.get_dummies(train_data[\"Product\"]).applymap(np.int64)\n",
    "train_data=pd.concat([train_data,temp],1)\n",
    "train_data.drop(['Product'],1,inplace=True)     "
   ]
  },
  {
   "cell_type": "code",
   "execution_count": 19,
   "metadata": {
    "collapsed": true
   },
   "outputs": [],
   "source": [
    "train_data['Consumer complaint narrative']=train_data['Consumer complaint narrative'].fillna(value='')\n",
    "test_data['Consumer complaint narrative']=test_data['Consumer complaint narrative'].fillna(value='')"
   ]
  },
  {
   "cell_type": "code",
   "execution_count": null,
   "metadata": {
    "collapsed": false
   },
   "outputs": [],
   "source": [
    "test_data.columns.values"
   ]
  },
  {
   "cell_type": "code",
   "execution_count": null,
   "metadata": {
    "collapsed": false
   },
   "outputs": [],
   "source": [
    "train_data.columns.values"
   ]
  },
  {
   "cell_type": "code",
   "execution_count": 20,
   "metadata": {
    "collapsed": true
   },
   "outputs": [],
   "source": [
    "from textblob import TextBlob\n",
    "from nltk.corpus import stopwords\n",
    "from string import punctuation\n",
    "stop = set(stopwords.words('english')+list(punctuation))\n",
    "from nltk.stem.lancaster import LancasterStemmer"
   ]
  },
  {
   "cell_type": "code",
   "execution_count": 21,
   "metadata": {
    "collapsed": true
   },
   "outputs": [],
   "source": [
    "st = LancasterStemmer()"
   ]
  },
  {
   "cell_type": "code",
   "execution_count": 22,
   "metadata": {
    "collapsed": true
   },
   "outputs": [],
   "source": [
    "def split_into_lemmas(message):\n",
    "    message=str(message).lower()\n",
    "    words = TextBlob(message).words\n",
    "    words_sans_stop=[]\n",
    "    for word in words :\n",
    "        if word not in stop:\n",
    "            if len(word)>4:\n",
    "                words_sans_stop.append(word)\n",
    "    return [st.stem(word) for word in words_sans_stop if not word.startswith('x') ]"
   ]
  },
  {
   "cell_type": "code",
   "execution_count": 23,
   "metadata": {
    "collapsed": true
   },
   "outputs": [],
   "source": [
    "def split_into_lemma(message):\n",
    "    message=message.lower()\n",
    "    words = TextBlob(message).words\n",
    "    words_sans_stop=[]\n",
    "    for word in words :\n",
    "        if word not in stop:\n",
    "            words_sans_stop.append(word)\n",
    "    return [word for word in words_sans_stop]"
   ]
  },
  {
   "cell_type": "code",
   "execution_count": 24,
   "metadata": {
    "collapsed": true
   },
   "outputs": [],
   "source": [
    "tfidf= TfidfVectorizer(min_df=1, max_df=0.7, analyzer=split_into_lemma, max_features=80)"
   ]
  },
  {
   "cell_type": "code",
   "execution_count": 25,
   "metadata": {
    "collapsed": true
   },
   "outputs": [],
   "source": [
    "tfidf1= TfidfVectorizer(min_df=0.002, max_df=0.7, analyzer=split_into_lemmas, max_features=300)"
   ]
  },
  {
   "cell_type": "code",
   "execution_count": 26,
   "metadata": {
    "collapsed": true
   },
   "outputs": [],
   "source": [
    "x=train_data.drop(['Consumer disputed?'],1)"
   ]
  },
  {
   "cell_type": "code",
   "execution_count": 27,
   "metadata": {
    "collapsed": true
   },
   "outputs": [],
   "source": [
    "y=train_data['Consumer disputed?']"
   ]
  },
  {
   "cell_type": "code",
   "execution_count": 28,
   "metadata": {
    "collapsed": true
   },
   "outputs": [],
   "source": [
    "X_transformed= tfidf.fit_transform(x['Issue'])"
   ]
  },
  {
   "cell_type": "code",
   "execution_count": 29,
   "metadata": {
    "collapsed": false
   },
   "outputs": [],
   "source": [
    "X_transformed1 = tfidf1.fit_transform(x['Consumer complaint narrative'])"
   ]
  },
  {
   "cell_type": "code",
   "execution_count": 30,
   "metadata": {
    "collapsed": true
   },
   "outputs": [],
   "source": [
    "tfidf_data=pd.DataFrame(X_transformed.toarray())\n",
    "tfidf_data.columns=tfidf.get_feature_names()"
   ]
  },
  {
   "cell_type": "code",
   "execution_count": 31,
   "metadata": {
    "collapsed": true
   },
   "outputs": [],
   "source": [
    "tfidf_data1 = pd.DataFrame(X_transformed1.toarray())\n",
    "tfidf_data1.columns=tfidf1.get_feature_names()"
   ]
  },
  {
   "cell_type": "code",
   "execution_count": 33,
   "metadata": {
    "collapsed": true
   },
   "outputs": [],
   "source": [
    "#x.reset_index(drop=True, inplace=True)"
   ]
  },
  {
   "cell_type": "code",
   "execution_count": 32,
   "metadata": {
    "collapsed": false
   },
   "outputs": [],
   "source": [
    "x = pd.concat([x, tfidf_data], axis=1)"
   ]
  },
  {
   "cell_type": "code",
   "execution_count": 33,
   "metadata": {
    "collapsed": true
   },
   "outputs": [],
   "source": [
    "x = pd.concat([x, tfidf_data1], axis=1)"
   ]
  },
  {
   "cell_type": "code",
   "execution_count": 34,
   "metadata": {
    "collapsed": false
   },
   "outputs": [],
   "source": [
    "x.drop(['Issue', 'Consumer complaint narrative'], 1, inplace=True)"
   ]
  },
  {
   "cell_type": "code",
   "execution_count": 35,
   "metadata": {
    "collapsed": true
   },
   "outputs": [],
   "source": [
    "X_transform= tfidf.transform(test_data['Issue'])"
   ]
  },
  {
   "cell_type": "code",
   "execution_count": 36,
   "metadata": {
    "collapsed": true
   },
   "outputs": [],
   "source": [
    "X_transform1 = tfidf1.transform(test_data['Consumer complaint narrative'])"
   ]
  },
  {
   "cell_type": "code",
   "execution_count": 37,
   "metadata": {
    "collapsed": true
   },
   "outputs": [],
   "source": [
    "tfidf_data=pd.DataFrame(X_transform.toarray())\n",
    "tfidf_data.columns=tfidf.get_feature_names()\n",
    "tfidf_data1 = pd.DataFrame(X_transform1.toarray())\n",
    "tfidf_data1.columns=tfidf1.get_feature_names()"
   ]
  },
  {
   "cell_type": "code",
   "execution_count": 38,
   "metadata": {
    "collapsed": true
   },
   "outputs": [],
   "source": [
    "test_data = pd.concat([test_data, tfidf_data], axis=1)"
   ]
  },
  {
   "cell_type": "code",
   "execution_count": 39,
   "metadata": {
    "collapsed": true
   },
   "outputs": [],
   "source": [
    "test_data = pd.concat([test_data, tfidf_data1], axis=1)"
   ]
  },
  {
   "cell_type": "code",
   "execution_count": 40,
   "metadata": {
    "collapsed": true
   },
   "outputs": [],
   "source": [
    "test_data.drop(['Issue', 'Consumer complaint narrative'], 1, inplace=True)"
   ]
  },
  {
   "cell_type": "code",
   "execution_count": 41,
   "metadata": {
    "collapsed": false
   },
   "outputs": [
    {
     "data": {
      "text/plain": [
       "(70000, 50)"
      ]
     },
     "execution_count": 41,
     "metadata": {},
     "output_type": "execute_result"
    }
   ],
   "source": [
    "train_data.shape"
   ]
  },
  {
   "cell_type": "code",
   "execution_count": null,
   "metadata": {
    "collapsed": true
   },
   "outputs": [],
   "source": [
    "from scipy.stats import randint as sp_randint\n",
    "from time import time\n",
    "from operator import itemgetter\n",
    "from sklearn.grid_search import RandomizedSearchCV"
   ]
  },
  {
   "cell_type": "code",
   "execution_count": null,
   "metadata": {
    "collapsed": true
   },
   "outputs": [],
   "source": [
    "clf = RandomForestClassifier(verbose=1,n_jobs=-1)"
   ]
  },
  {
   "cell_type": "code",
   "execution_count": null,
   "metadata": {
    "collapsed": true
   },
   "outputs": [],
   "source": [
    "n_iter_search = 20\n",
    "param_dist = {\"n_estimators\":[10,100,500,700],\n",
    "              \"max_depth\": [3,5, None],\n",
    "              \"max_features\": sp_randint(5, 11),\n",
    "              \"min_samples_split\": sp_randint(5, 11),\n",
    "              \"min_samples_leaf\": sp_randint(5, 11),\n",
    "              \"bootstrap\": [True, False],\n",
    "              \"criterion\": [\"gini\", \"entropy\"]}"
   ]
  },
  {
   "cell_type": "code",
   "execution_count": null,
   "metadata": {
    "collapsed": false
   },
   "outputs": [],
   "source": [
    "random_search = RandomizedSearchCV(clf, param_distributions=param_dist,\n",
    "                                   n_iter=n_iter_search)"
   ]
  },
  {
   "cell_type": "code",
   "execution_count": null,
   "metadata": {
    "collapsed": false
   },
   "outputs": [],
   "source": [
    "random_search.fit(x,y)"
   ]
  },
  {
   "cell_type": "code",
   "execution_count": null,
   "metadata": {
    "collapsed": false
   },
   "outputs": [],
   "source": [
    "def report(grid_scores, n_top=3):\n",
    "    top_scores = sorted(grid_scores, key=itemgetter(1), reverse=True)[:n_top]\n",
    "    #above line selects top n grid scores\n",
    "    #for loop below , prints the rank, score and parameter combination\n",
    "    for i, score in enumerate(top_scores):\n",
    "        print(\"Model with rank: {0}\".format(i + 1))\n",
    "        print(\"Mean validation score: {0:.3f} (std: {1:.3f})\".format(\n",
    "              score.mean_validation_score,\n",
    "              np.std(score.cv_validation_scores)))\n",
    "        print(\"Parameters: {0}\".format(score.parameters))\n",
    "        print(\"\")"
   ]
  },
  {
   "cell_type": "code",
   "execution_count": null,
   "metadata": {
    "collapsed": false
   },
   "outputs": [],
   "source": [
    "report(random_search.grid_scores_)"
   ]
  },
  {
   "cell_type": "code",
   "execution_count": null,
   "metadata": {
    "collapsed": true
   },
   "outputs": [],
   "source": [
    "rf=RandomForestClassifier(n_estimators=700,verbose=1,criterion='gini',min_samples_split=6,\n",
    "                         bootstrap=False,max_depth=None,max_features=5,min_samples_leaf=5,\n",
    "                          class_weight=\"balanced\")"
   ]
  },
  {
   "cell_type": "code",
   "execution_count": null,
   "metadata": {
    "collapsed": false
   },
   "outputs": [],
   "source": [
    "rf.fit(x, y)"
   ]
  },
  {
   "cell_type": "code",
   "execution_count": null,
   "metadata": {
    "collapsed": true
   },
   "outputs": [],
   "source": [
    "test_data = pd.read_csv('Consumer_Complaints_test_share.csv', skiprows=range(1, 100001))"
   ]
  },
  {
   "cell_type": "code",
   "execution_count": null,
   "metadata": {
    "collapsed": true
   },
   "outputs": [],
   "source": [
    "for col in ['Date received','Date sent to company']:\n",
    "    test_data[col]=pd.to_datetime(test_data[col],infer_datetime_format=True)"
   ]
  },
  {
   "cell_type": "code",
   "execution_count": null,
   "metadata": {
    "collapsed": true
   },
   "outputs": [],
   "source": [
    "test_data['day_diff']=pd.to_numeric(test_data['Date sent to company']-test_data['Date received'])"
   ]
  },
  {
   "cell_type": "code",
   "execution_count": null,
   "metadata": {
    "collapsed": true
   },
   "outputs": [],
   "source": [
    "test_data['Timely_response']=np.where(test_data['Timely response?']=='No',0,1)\n",
    "test_data.drop(test_data.ix[:, ['Timely response?']], axis=1, inplace=True)"
   ]
  },
  {
   "cell_type": "code",
   "execution_count": null,
   "metadata": {
    "collapsed": true
   },
   "outputs": [],
   "source": [
    "test_data['Date received'] = pd.to_datetime(test_data['Date received']).dt.month"
   ]
  },
  {
   "cell_type": "code",
   "execution_count": null,
   "metadata": {
    "collapsed": true
   },
   "outputs": [],
   "source": [
    "for i in range(len(test_data)):\n",
    "    if test_data[\"Date received\"][i] in [1,2,3,4,11,12]:\n",
    "        test_data.loc[i,\"Date received\"]=\"date_1\"\n",
    "    if test_data[\"Date received\"][i] in [5,10]:\n",
    "        test_data.loc[i,\"Date received\"]=\"date_2\"\n",
    "    if test_data[\"Date received\"][i] in [6,9]:\n",
    "        test_data.loc[i,\"Date received\"]=\"date_3\"\n",
    "    if test_data[\"Date received\"][i] in [7]:\n",
    "        test_data.loc[i,\"Date received\"]=\"date_4\" \n",
    "        \n",
    "temp=pd.get_dummies(test_data[\"Date received\"]).applymap(np.int64)\n",
    "test_data=pd.concat([test_data,temp],1)\n",
    "test_data.drop([8,'Date received'],1,inplace=True)        "
   ]
  },
  {
   "cell_type": "code",
   "execution_count": null,
   "metadata": {
    "collapsed": true
   },
   "outputs": [],
   "source": [
    "for x in ['Date sent to company', 'Company', 'ZIP code', 'Tags']:    \n",
    "    del test_data[x]"
   ]
  },
  {
   "cell_type": "code",
   "execution_count": null,
   "metadata": {
    "collapsed": false
   },
   "outputs": [],
   "source": [
    "for col in ['Submitted via', 'Company response to consumer']:\n",
    "    temp=pd.get_dummies(test_data[col],prefix=col,drop_first=True).applymap(np.int64)\n",
    "    test_data=pd.concat([temp,test_data],1)\n",
    "    test_data.drop([col],1,inplace=True)    "
   ]
  },
  {
   "cell_type": "code",
   "execution_count": null,
   "metadata": {
    "collapsed": false
   },
   "outputs": [],
   "source": [
    "test_data['Product']=le.transform(test_data['Product'])"
   ]
  },
  {
   "cell_type": "code",
   "execution_count": null,
   "metadata": {
    "collapsed": true
   },
   "outputs": [],
   "source": [
    "test_data['Company public response']=np.where(pd.isnull(test_data['Company public response']),1,0)"
   ]
  },
  {
   "cell_type": "code",
   "execution_count": null,
   "metadata": {
    "collapsed": true
   },
   "outputs": [],
   "source": [
    "for col in ['Sub-product','Sub-issue', 'Consumer consent provided?']:\n",
    "    varname=col.replace('-','_')+'_isNan'\n",
    "    test_data[varname]=np.where(pd.isnull(test_data[col]),1,0)\n",
    "    test_data.drop([col],1,inplace=True)"
   ]
  },
  {
   "cell_type": "code",
   "execution_count": null,
   "metadata": {
    "collapsed": false
   },
   "outputs": [],
   "source": [
    "# test_data.info()"
   ]
  },
  {
   "cell_type": "code",
   "execution_count": null,
   "metadata": {
    "collapsed": false
   },
   "outputs": [],
   "source": [
    "train_data = pd.read_csv('Consumer_Complaints_train.csv', nrows=60000)\n",
    "k=train_data['State'].value_counts()\n",
    "for val in k.axes[0][0:15]:\n",
    "    varname='State_'+val.replace(',','_').replace(' ','_')\n",
    "    test_data[varname]=np.where(test_data['State']==val,1,0)\n",
    "del test_data['State']"
   ]
  },
  {
   "cell_type": "code",
   "execution_count": null,
   "metadata": {
    "collapsed": true
   },
   "outputs": [],
   "source": [
    "test_data['Consumer complaint narrative']=test_data['Consumer complaint narrative'].fillna(value='')"
   ]
  },
  {
   "cell_type": "code",
   "execution_count": null,
   "metadata": {
    "collapsed": false
   },
   "outputs": [],
   "source": [
    "#test_data.shape"
   ]
  },
  {
   "cell_type": "code",
   "execution_count": null,
   "metadata": {
    "collapsed": true
   },
   "outputs": [],
   "source": [
    "X_transform= tfidf.transform(test_data['Issue'])"
   ]
  },
  {
   "cell_type": "code",
   "execution_count": null,
   "metadata": {
    "collapsed": true
   },
   "outputs": [],
   "source": [
    "X_transform1 = tfidf1.transform(test_data['Consumer complaint narrative'])"
   ]
  },
  {
   "cell_type": "code",
   "execution_count": null,
   "metadata": {
    "collapsed": true
   },
   "outputs": [],
   "source": [
    "tfidf_data=pd.DataFrame(X_transform.toarray())\n",
    "tfidf_data.columns=tfidf.get_feature_names()\n",
    "tfidf_data1 = pd.DataFrame(X_transform1.toarray())\n",
    "tfidf_data1.columns=tfidf1.get_feature_names()"
   ]
  },
  {
   "cell_type": "code",
   "execution_count": null,
   "metadata": {
    "collapsed": true
   },
   "outputs": [],
   "source": [
    "test_data = pd.concat([test_data, tfidf_data], axis=1)"
   ]
  },
  {
   "cell_type": "code",
   "execution_count": null,
   "metadata": {
    "collapsed": true
   },
   "outputs": [],
   "source": [
    "test_data = pd.concat([test_data, tfidf_data1], axis=1)"
   ]
  },
  {
   "cell_type": "code",
   "execution_count": null,
   "metadata": {
    "collapsed": false
   },
   "outputs": [],
   "source": [
    "test_data.drop(['Issue', 'Consumer complaint narrative'], 1, inplace=True)"
   ]
  },
  {
   "cell_type": "code",
   "execution_count": null,
   "metadata": {
    "collapsed": false
   },
   "outputs": [],
   "source": [
    "#test_data.columns.values"
   ]
  },
  {
   "cell_type": "code",
   "execution_count": null,
   "metadata": {
    "collapsed": false
   },
   "outputs": [],
   "source": [
    "#test_data.drop('Company response to consumer_Untimely response',1, inplace=True)"
   ]
  },
  {
   "cell_type": "code",
   "execution_count": null,
   "metadata": {
    "collapsed": false
   },
   "outputs": [],
   "source": [
    "prediction=np.where(rf.predict(test_data.drop(['Complaint ID'],1))==1,\"Yes\",\"No\")"
   ]
  },
  {
   "cell_type": "code",
   "execution_count": null,
   "metadata": {
    "collapsed": false
   },
   "outputs": [],
   "source": [
    "submission=pd.DataFrame(list(zip(test_data['Complaint ID'],list(prediction))),\n",
    "                       columns=['Complaint ID','Consumer disputed?'])"
   ]
  },
  {
   "cell_type": "code",
   "execution_count": null,
   "metadata": {
    "collapsed": true
   },
   "outputs": [],
   "source": [
    "submission.to_csv('submission2.csv', mode='a', header=False, index=False)"
   ]
  },
  {
   "cell_type": "code",
   "execution_count": null,
   "metadata": {
    "collapsed": true
   },
   "outputs": [],
   "source": [
    "#submission.to_csv('submission2.csv',index=False)"
   ]
  }
 ],
 "metadata": {
  "anaconda-cloud": {},
  "kernelspec": {
   "display_name": "Python [Root]",
   "language": "python",
   "name": "Python [Root]"
  },
  "language_info": {
   "codemirror_mode": {
    "name": "ipython",
    "version": 3
   },
   "file_extension": ".py",
   "mimetype": "text/x-python",
   "name": "python",
   "nbconvert_exporter": "python",
   "pygments_lexer": "ipython3",
   "version": "3.5.2"
  }
 },
 "nbformat": 4,
 "nbformat_minor": 0
}
